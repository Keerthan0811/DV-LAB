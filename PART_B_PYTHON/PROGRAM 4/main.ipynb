{
 "cells": [
  {
   "cell_type": "markdown",
   "metadata": {},
   "source": [
    "In a retail experiment, we want to understand how advertising expenditure, store\n",
    "location, and competition affect sales revenue. Using synthetic data, implement multiple linear\n",
    "regression in Python to analyse these factors. Interpret the coefficients, perform an F-test to assess\n",
    "overall model significance, and conduct t-tests to evaluate the significance of individual\n",
    "coefficients."
   ]
  },
  {
   "cell_type": "code",
   "execution_count": 1,
   "metadata": {},
   "outputs": [],
   "source": [
    "import numpy as np\n",
    "import pandas as pd\n",
    "import statsmodels.api as sm\n",
    "from sklearn.model_selection import train_test_split"
   ]
  },
  {
   "cell_type": "code",
   "execution_count": 20,
   "metadata": {},
   "outputs": [],
   "source": [
    "# Generate synthetic data\n",
    "np.random.seed(42)\n",
    "n_samples = 100\n",
    "\n",
    "# Features\n",
    "advertising_expenditure = np.random.uniform(1000, 5000, n_samples)  # in dollars\n",
    "store_location = np.random.choice([0, 1], size=n_samples)  # 0: Suburban, 1: Urban\n",
    "competition = np.random.uniform(0, 10, n_samples)  # scale from 0 (low) to 10 (high)\n",
    "\n",
    "# True relationship (synthetic)\n",
    "true_coefficients = [5, 1000, -200]\n",
    "noise = np.random.normal(0, 500, n_samples)"
   ]
  },
  {
   "cell_type": "code",
   "execution_count": 19,
   "metadata": {},
   "outputs": [
    {
     "data": {
      "text/html": [
       "<div>\n",
       "<style scoped>\n",
       "    .dataframe tbody tr th:only-of-type {\n",
       "        vertical-align: middle;\n",
       "    }\n",
       "\n",
       "    .dataframe tbody tr th {\n",
       "        vertical-align: top;\n",
       "    }\n",
       "\n",
       "    .dataframe thead th {\n",
       "        text-align: right;\n",
       "    }\n",
       "</style>\n",
       "<table border=\"1\" class=\"dataframe\">\n",
       "  <thead>\n",
       "    <tr style=\"text-align: right;\">\n",
       "      <th></th>\n",
       "      <th>AdvertisingExpenditure</th>\n",
       "      <th>StoreLocation</th>\n",
       "      <th>Competition</th>\n",
       "      <th>SalesRevenue</th>\n",
       "    </tr>\n",
       "  </thead>\n",
       "  <tbody>\n",
       "    <tr>\n",
       "      <th>0</th>\n",
       "      <td>4844.762255</td>\n",
       "      <td>0</td>\n",
       "      <td>3.764634</td>\n",
       "      <td>23414.720518</td>\n",
       "    </tr>\n",
       "    <tr>\n",
       "      <th>1</th>\n",
       "      <td>4621.402568</td>\n",
       "      <td>0</td>\n",
       "      <td>8.105533</td>\n",
       "      <td>21375.421378</td>\n",
       "    </tr>\n",
       "    <tr>\n",
       "      <th>2</th>\n",
       "      <td>1783.164539</td>\n",
       "      <td>1</td>\n",
       "      <td>9.872761</td>\n",
       "      <td>8248.353787</td>\n",
       "    </tr>\n",
       "    <tr>\n",
       "      <th>3</th>\n",
       "      <td>1277.445204</td>\n",
       "      <td>0</td>\n",
       "      <td>1.504169</td>\n",
       "      <td>6465.146090</td>\n",
       "    </tr>\n",
       "    <tr>\n",
       "      <th>4</th>\n",
       "      <td>1403.112006</td>\n",
       "      <td>1</td>\n",
       "      <td>5.941307</td>\n",
       "      <td>6562.048023</td>\n",
       "    </tr>\n",
       "  </tbody>\n",
       "</table>\n",
       "</div>"
      ],
      "text/plain": [
       "   AdvertisingExpenditure  StoreLocation  Competition  SalesRevenue\n",
       "0             4844.762255              0     3.764634  23414.720518\n",
       "1             4621.402568              0     8.105533  21375.421378\n",
       "2             1783.164539              1     9.872761   8248.353787\n",
       "3             1277.445204              0     1.504169   6465.146090\n",
       "4             1403.112006              1     5.941307   6562.048023"
      ]
     },
     "execution_count": 19,
     "metadata": {},
     "output_type": "execute_result"
    }
   ],
   "source": [
    "sales_revenue = (\n",
    "    true_coefficients[0] * advertising_expenditure +\n",
    "    true_coefficients[1] * store_location +\n",
    "    true_coefficients[2] * competition +\n",
    "    noise\n",
    ")\n",
    "\n",
    "# Create DataFrame\n",
    "data = pd.DataFrame({\n",
    "    'AdvertisingExpenditure': advertising_expenditure,\n",
    "    'StoreLocation': store_location,\n",
    "    'Competition': competition,\n",
    "    'SalesRevenue': sales_revenue\n",
    "})\n",
    "data.head()"
   ]
  },
  {
   "cell_type": "code",
   "execution_count": 25,
   "metadata": {},
   "outputs": [
    {
     "name": "stdout",
     "output_type": "stream",
     "text": [
      "                            OLS Regression Results                            \n",
      "==============================================================================\n",
      "Dep. Variable:           SalesRevenue   R-squared:                       0.994\n",
      "Model:                            OLS   Adj. R-squared:                  0.994\n",
      "Method:                 Least Squares   F-statistic:                     4124.\n",
      "Date:                Thu, 09 Jan 2025   Prob (F-statistic):           5.06e-84\n",
      "Time:                        01:33:30   Log-Likelihood:                -607.11\n",
      "No. Observations:                  80   AIC:                             1222.\n",
      "Df Residuals:                      76   BIC:                             1232.\n",
      "Df Model:                           3                                         \n",
      "Covariance Type:            nonrobust                                         \n",
      "==========================================================================================\n",
      "                             coef    std err          t      P>|t|      [0.025      0.975]\n",
      "------------------------------------------------------------------------------------------\n",
      "const                    -50.6066    167.751     -0.302      0.764    -384.712     283.499\n",
      "AdvertisingExpenditure     5.0180      0.045    110.598      0.000       4.928       5.108\n",
      "StoreLocation            796.3376    115.263      6.909      0.000     566.772    1025.903\n",
      "Competition             -188.8240     19.406     -9.730      0.000    -227.475    -150.173\n",
      "==============================================================================\n",
      "Omnibus:                        1.631   Durbin-Watson:                   2.016\n",
      "Prob(Omnibus):                  0.443   Jarque-Bera (JB):                1.372\n",
      "Skew:                           0.321   Prob(JB):                        0.504\n",
      "Kurtosis:                       2.981   Cond. No.                     1.01e+04\n",
      "==============================================================================\n",
      "\n",
      "Notes:\n",
      "[1] Standard Errors assume that the covariance matrix of the errors is correctly specified.\n",
      "[2] The condition number is large, 1.01e+04. This might indicate that there are\n",
      "strong multicollinearity or other numerical problems.\n"
     ]
    }
   ],
   "source": [
    "# Define independent and dependent variables\n",
    "X = data.drop(['SalesRevenue'],axis='columns')\n",
    "y = data['SalesRevenue']\n",
    "\n",
    "# Add a constant term for the intercept\n",
    "X = sm.add_constant(X)\n",
    "\n",
    "# Split data into training and test sets\n",
    "X_train, X_test, y_train, y_test = train_test_split(X, y, test_size=0.2, random_state=42)\n",
    "\n",
    "# Fit the multiple linear regression model\n",
    "model = sm.OLS(y_train, X_train).fit()\n",
    "\n",
    "# Model summary\n",
    "summary = model.summary()\n",
    "print(summary)"
   ]
  },
  {
   "cell_type": "code",
   "execution_count": 13,
   "metadata": {},
   "outputs": [
    {
     "name": "stdout",
     "output_type": "stream",
     "text": [
      "\n",
      "Interpretation of coefficients:\n",
      "Intercept: -137.09 (baseline sales when all predictors are zero)\n",
      "Advertising Expenditure: 5.03 (increase in revenue per dollar spent)\n",
      "Store Location: 911.68 (incremental revenue for urban locations)\n",
      "Competition: -183.53 (decrease in revenue per unit of competition)\n"
     ]
    }
   ],
   "source": [
    "# Interpret coefficients\n",
    "coefficients = model.params\n",
    "print(\"\\nInterpretation of coefficients:\")\n",
    "print(f\"Intercept: {coefficients['const']:.2f} (baseline sales when all predictors are zero)\")\n",
    "print(f\"Advertising Expenditure: {coefficients['AdvertisingExpenditure']:.2f} (increase in revenue per dollar spent)\")\n",
    "print(f\"Store Location: {coefficients['StoreLocation']:.2f} (incremental revenue for urban locations)\")\n",
    "print(f\"Competition: {coefficients['Competition']:.2f} (decrease in revenue per unit of competition)\")"
   ]
  },
  {
   "cell_type": "code",
   "execution_count": 14,
   "metadata": {},
   "outputs": [
    {
     "name": "stdout",
     "output_type": "stream",
     "text": [
      "\n",
      "Overall model significance (F-test p-value): 0.0000\n",
      "The model is significant.\n"
     ]
    }
   ],
   "source": [
    "# Perform F-test for overall model significance\n",
    "f_pvalue = model.f_pvalue\n",
    "print(f\"\\nOverall model significance (F-test p-value): {f_pvalue:.4f}\")\n",
    "if f_pvalue < 0.05:\n",
    "    print(\"The model is significant.\")\n",
    "else:\n",
    "    print(\"The model is not significant.\")"
   ]
  },
  {
   "cell_type": "code",
   "execution_count": 15,
   "metadata": {},
   "outputs": [
    {
     "name": "stdout",
     "output_type": "stream",
     "text": [
      "\n",
      "T-tests for individual coefficients:\n",
      "const: t-value = -0.54, p-value = 0.5894\n",
      "    const is not significant.\n",
      "AdvertisingExpenditure: t-value = 86.53, p-value = 0.0000\n",
      "    AdvertisingExpenditure is significant.\n",
      "StoreLocation: t-value = 7.39, p-value = 0.0000\n",
      "    StoreLocation is significant.\n",
      "Competition: t-value = -8.28, p-value = 0.0000\n",
      "    Competition is significant.\n"
     ]
    }
   ],
   "source": [
    "# Perform t-tests for individual coefficients\n",
    "t_values = model.tvalues\n",
    "p_values = model.pvalues\n",
    "print(\"\\nT-tests for individual coefficients:\")\n",
    "for predictor in coefficients.index:\n",
    "    print(f\"{predictor}: t-value = {t_values[predictor]:.2f}, p-value = {p_values[predictor]:.4f}\")\n",
    "    if p_values[predictor] < 0.05:\n",
    "        print(f\"    {predictor} is significant.\")\n",
    "    else:\n",
    "        print(f\"    {predictor} is not significant.\")"
   ]
  }
 ],
 "metadata": {
  "kernelspec": {
   "display_name": "base",
   "language": "python",
   "name": "python3"
  },
  "language_info": {
   "codemirror_mode": {
    "name": "ipython",
    "version": 3
   },
   "file_extension": ".py",
   "mimetype": "text/x-python",
   "name": "python",
   "nbconvert_exporter": "python",
   "pygments_lexer": "ipython3",
   "version": "3.12.7"
  }
 },
 "nbformat": 4,
 "nbformat_minor": 2
}
