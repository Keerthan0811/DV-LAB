{
 "cells": [
  {
   "cell_type": "markdown",
   "metadata": {},
   "source": [
    "In a retail experiment, we want to understand how advertising expenditure, store\n",
    "location, and competition affect sales revenue. Using synthetic data, implement multiple linear\n",
    "regression in Python to analyse these factors. Interpret the coefficients, perform an F-test to assess\n",
    "overall model significance, and conduct t-tests to evaluate the significance of individual\n",
    "coefficients."
   ]
  },
  {
   "cell_type": "code",
   "execution_count": 1,
   "metadata": {},
   "outputs": [],
   "source": [
    "import numpy as np\n",
    "import pandas as pd\n",
    "import statsmodels.api as sm\n",
    "from sklearn.model_selection import train_test_split"
   ]
  },
  {
   "cell_type": "code",
   "execution_count": 3,
   "metadata": {},
   "outputs": [],
   "source": [
    "# Generate synthetic data\n",
    "np.random.seed(42)\n",
    "n_samples = 100\n",
    "\n",
    "# Features\n",
    "advertising_expenditure = np.random.uniform(1000, 5000, n_samples)  # in dollars\n",
    "store_location = np.random.choice([0, 1], size=n_samples)  # 0: Suburban, 1: Urban\n",
    "competition = np.random.uniform(0, 10, n_samples)  # scale from 0 (low) to 10 (high)\n",
    "\n",
    "# True relationship (synthetic)\n",
    "true_coefficients = [5, 1000, -200]\n",
    "noise = np.random.normal(0, 500, n_samples)"
   ]
  },
  {
   "cell_type": "code",
   "execution_count": 4,
   "metadata": {},
   "outputs": [],
   "source": [
    "sales_revenue = (\n",
    "    true_coefficients[0] * advertising_expenditure +\n",
    "    true_coefficients[1] * store_location +\n",
    "    true_coefficients[2] * competition +\n",
    "    noise\n",
    ")\n",
    "\n",
    "# Create DataFrame\n",
    "data = pd.DataFrame({\n",
    "    'AdvertisingExpenditure': advertising_expenditure,\n",
    "    'StoreLocation': store_location,\n",
    "    'Competition': competition,\n",
    "    'SalesRevenue': sales_revenue\n",
    "})"
   ]
  },
  {
   "cell_type": "code",
   "execution_count": 8,
   "metadata": {},
   "outputs": [
    {
     "name": "stdout",
     "output_type": "stream",
     "text": [
      "                            OLS Regression Results                            \n",
      "==============================================================================\n",
      "Dep. Variable:           SalesRevenue   R-squared:                       0.990\n",
      "Model:                            OLS   Adj. R-squared:                  0.990\n",
      "Method:                 Least Squares   F-statistic:                     2575.\n",
      "Date:                Fri, 03 Jan 2025   Prob (F-statistic):           2.60e-76\n",
      "Time:                        03:22:17   Log-Likelihood:                -621.37\n",
      "No. Observations:                  80   AIC:                             1251.\n",
      "Df Residuals:                      76   BIC:                             1260.\n",
      "Df Model:                           3                                         \n",
      "Covariance Type:            nonrobust                                         \n",
      "==========================================================================================\n",
      "                             coef    std err          t      P>|t|      [0.025      0.975]\n",
      "------------------------------------------------------------------------------------------\n",
      "const                    385.6001    230.195      1.675      0.098     -72.872     844.073\n",
      "AdvertisingExpenditure     4.9032      0.057     86.768      0.000       4.791       5.016\n",
      "StoreLocation            929.7984    133.428      6.969      0.000     664.053    1195.544\n",
      "Competition             -206.3876     22.383     -9.221      0.000    -250.967    -161.808\n",
      "==============================================================================\n",
      "Omnibus:                        0.529   Durbin-Watson:                   1.856\n",
      "Prob(Omnibus):                  0.767   Jarque-Bera (JB):                0.139\n",
      "Skew:                           0.017   Prob(JB):                        0.933\n",
      "Kurtosis:                       3.201   Cond. No.                     1.13e+04\n",
      "==============================================================================\n",
      "\n",
      "Notes:\n",
      "[1] Standard Errors assume that the covariance matrix of the errors is correctly specified.\n",
      "[2] The condition number is large, 1.13e+04. This might indicate that there are\n",
      "strong multicollinearity or other numerical problems.\n"
     ]
    }
   ],
   "source": [
    "# Define independent and dependent variables\n",
    "X = data[['AdvertisingExpenditure', 'StoreLocation', 'Competition']]\n",
    "y = data['SalesRevenue']\n",
    "\n",
    "# Add a constant term for the intercept\n",
    "X = sm.add_constant(X)\n",
    "\n",
    "# Split data into training and test sets\n",
    "X_train, X_test, y_train, y_test = train_test_split(X, y, test_size=0.2, random_state=42)\n",
    "\n",
    "# Fit the multiple linear regression model\n",
    "model = sm.OLS(y_train, X_train).fit()\n",
    "\n",
    "# Model summary\n",
    "summary = model.summary()\n",
    "print(summary)"
   ]
  },
  {
   "cell_type": "code",
   "execution_count": 9,
   "metadata": {},
   "outputs": [
    {
     "name": "stdout",
     "output_type": "stream",
     "text": [
      "\n",
      "Interpretation of coefficients:\n",
      "Intercept: 385.60 (baseline sales when all predictors are zero)\n",
      "Advertising Expenditure: 4.90 (increase in revenue per dollar spent)\n",
      "Store Location: 929.80 (incremental revenue for urban locations)\n",
      "Competition: -206.39 (decrease in revenue per unit of competition)\n"
     ]
    }
   ],
   "source": [
    "# Interpret coefficients\n",
    "coefficients = model.params\n",
    "print(\"\\nInterpretation of coefficients:\")\n",
    "print(f\"Intercept: {coefficients['const']:.2f} (baseline sales when all predictors are zero)\")\n",
    "print(f\"Advertising Expenditure: {coefficients['AdvertisingExpenditure']:.2f} (increase in revenue per dollar spent)\")\n",
    "print(f\"Store Location: {coefficients['StoreLocation']:.2f} (incremental revenue for urban locations)\")\n",
    "print(f\"Competition: {coefficients['Competition']:.2f} (decrease in revenue per unit of competition)\")"
   ]
  },
  {
   "cell_type": "code",
   "execution_count": 11,
   "metadata": {},
   "outputs": [
    {
     "name": "stdout",
     "output_type": "stream",
     "text": [
      "\n",
      "Overall model significance (F-test p-value): 0.0000\n",
      "The model is significant.\n"
     ]
    }
   ],
   "source": [
    "# Perform F-test for overall model significance\n",
    "f_pvalue = model.f_pvalue\n",
    "print(f\"\\nOverall model significance (F-test p-value): {f_pvalue:.4f}\")\n",
    "if f_pvalue < 0.05:\n",
    "    print(\"The model is significant.\")\n",
    "else:\n",
    "    print(\"The model is not significant.\")"
   ]
  },
  {
   "cell_type": "code",
   "execution_count": 13,
   "metadata": {},
   "outputs": [
    {
     "name": "stdout",
     "output_type": "stream",
     "text": [
      "\n",
      "T-tests for individual coefficients:\n",
      "const: t-value = 1.68, p-value = 0.0980\n",
      "    const is not significant.\n",
      "AdvertisingExpenditure: t-value = 86.77, p-value = 0.0000\n",
      "    AdvertisingExpenditure is significant.\n",
      "StoreLocation: t-value = 6.97, p-value = 0.0000\n",
      "    StoreLocation is significant.\n",
      "Competition: t-value = -9.22, p-value = 0.0000\n",
      "    Competition is significant.\n"
     ]
    }
   ],
   "source": [
    "# Perform t-tests for individual coefficients\n",
    "t_values = model.tvalues\n",
    "p_values = model.pvalues\n",
    "print(\"\\nT-tests for individual coefficients:\")\n",
    "for predictor in coefficients.index:\n",
    "    print(f\"{predictor}: t-value = {t_values[predictor]:.2f}, p-value = {p_values[predictor]:.4f}\")\n",
    "    if p_values[predictor] < 0.05:\n",
    "        print(f\"    {predictor} is significant.\")\n",
    "    else:\n",
    "        print(f\"    {predictor} is not significant.\")"
   ]
  }
 ],
 "metadata": {
  "kernelspec": {
   "display_name": "base",
   "language": "python",
   "name": "python3"
  },
  "language_info": {
   "codemirror_mode": {
    "name": "ipython",
    "version": 3
   },
   "file_extension": ".py",
   "mimetype": "text/x-python",
   "name": "python",
   "nbconvert_exporter": "python",
   "pygments_lexer": "ipython3",
   "version": "3.12.7"
  }
 },
 "nbformat": 4,
 "nbformat_minor": 2
}
